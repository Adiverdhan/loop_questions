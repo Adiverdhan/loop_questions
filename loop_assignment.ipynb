{
 "cells": [
  {
   "cell_type": "markdown",
   "id": "f3f8a630-ff9b-4d28-a1ed-b0c191f246de",
   "metadata": {},
   "source": [
    "1. Write a Python program to print the numbers from 1 to 10 using a `for` loop."
   ]
  },
  {
   "cell_type": "code",
   "execution_count": 1,
   "id": "86bfbd19-6b17-4e72-b1f3-7bda07479c78",
   "metadata": {},
   "outputs": [
    {
     "name": "stdout",
     "output_type": "stream",
     "text": [
      "1\n",
      "2\n",
      "3\n",
      "4\n",
      "5\n",
      "6\n",
      "7\n",
      "8\n",
      "9\n",
      "10\n"
     ]
    }
   ],
   "source": [
    "for i in range(1,11):\n",
    "    print(i)\n",
    "    "
   ]
  },
  {
   "cell_type": "markdown",
   "id": "20ac877a-fca1-486d-b8a0-665b0c401a88",
   "metadata": {},
   "source": [
    "2. Create a program that calculates the sum of all numbers in a list using a `for` loop."
   ]
  },
  {
   "cell_type": "code",
   "execution_count": 2,
   "id": "742e3e8e-bfe3-480d-bafd-f2e7821783a4",
   "metadata": {},
   "outputs": [
    {
     "name": "stdout",
     "output_type": "stream",
     "text": [
      "15\n"
     ]
    }
   ],
   "source": [
    "list1=[1,2,3,4,5]\n",
    "sum=0\n",
    "for i in range(len(list1)):\n",
    "    sum+=list1[i]\n",
    "print(sum)\n",
    "\n",
    "    "
   ]
  },
  {
   "cell_type": "markdown",
   "id": "608e80b8-c461-4beb-bd92-0152504c9d3f",
   "metadata": {},
   "source": [
    "3. Write a program to print the characters of a string in reverse order using a `for` loop."
   ]
  },
  {
   "cell_type": "code",
   "execution_count": 7,
   "id": "15709141-f28a-4212-bc89-c391680830f6",
   "metadata": {},
   "outputs": [
    {
     "name": "stdout",
     "output_type": "stream",
     "text": [
      "lufrewop si htam\n"
     ]
    }
   ],
   "source": [
    "str=\"math is powerful\"\n",
    "new=\"\"\n",
    "for i in range(len(str)-1,-1,-1):\n",
    "    new+=str[i]\n",
    "print(new)\n",
    "\n",
    "    \n"
   ]
  },
  {
   "cell_type": "markdown",
   "id": "6bf4767a-49d5-4829-93de-139bb07d9f11",
   "metadata": {},
   "source": [
    "4. Develop a program that finds the factorial of a given number using a `for` loop."
   ]
  },
  {
   "cell_type": "code",
   "execution_count": 8,
   "id": "7e7cb620-ae70-417a-a702-a6227d676a2a",
   "metadata": {},
   "outputs": [
    {
     "name": "stdin",
     "output_type": "stream",
     "text": [
      "Enter a number:  7\n"
     ]
    },
    {
     "name": "stdout",
     "output_type": "stream",
     "text": [
      "Factorial of 7 is 5040\n"
     ]
    }
   ],
   "source": [
    "num = int(input(\"Enter a number: \"))\n",
    "factorial = 1\n",
    "for i in range(1, num + 1):\n",
    "    factorial *= i\n",
    "\n",
    "# Print the factorial\n",
    "print(f\"Factorial of {num} is {factorial}\")\n"
   ]
  },
  {
   "cell_type": "markdown",
   "id": "c8ea71a3-a228-4c62-ac34-541706b419d1",
   "metadata": {},
   "source": [
    "5. Create a program to print the multiplication table of a given number using a `for` loop."
   ]
  },
  {
   "cell_type": "code",
   "execution_count": 12,
   "id": "4e8673f5-0a94-4720-ac30-338b852baaa4",
   "metadata": {},
   "outputs": [
    {
     "name": "stdin",
     "output_type": "stream",
     "text": [
      " 5\n"
     ]
    },
    {
     "name": "stdout",
     "output_type": "stream",
     "text": [
      "5\n",
      "10\n",
      "15\n",
      "20\n",
      "25\n",
      "30\n",
      "35\n",
      "40\n",
      "45\n"
     ]
    }
   ],
   "source": [
    "n=int(input())\n",
    "for i in range(1,10):\n",
    "    m=n*i\n",
    "    print(m)"
   ]
  },
  {
   "cell_type": "markdown",
   "id": "6059850e-d34e-4120-ae81-83ef9738b0e0",
   "metadata": {},
   "source": [
    "6. Write a program that counts the number of even and odd numbers in a list using a `for` loop."
   ]
  },
  {
   "cell_type": "code",
   "execution_count": 14,
   "id": "56007f67-cec5-43ee-babf-dd1e5b3ed8c6",
   "metadata": {},
   "outputs": [
    {
     "name": "stdout",
     "output_type": "stream",
     "text": [
      "6 4\n"
     ]
    }
   ],
   "source": [
    "l1=[1,2,3,4,5,7,8,4,2,4]\n",
    "counte=0\n",
    "counto=0\n",
    "for i in range(len(l1)):\n",
    "    if l1[i]%2==0:\n",
    "        counte+=1\n",
    "    else:\n",
    "        counto+=1\n",
    "print(counte, counto)\n",
    "    "
   ]
  },
  {
   "cell_type": "markdown",
   "id": "2f5f9c94-6d38-4c6c-b9ca-d0134b07924b",
   "metadata": {},
   "source": [
    "7. Develop a program that prints the squares of numbers from 1 to 5 using a `for` loop."
   ]
  },
  {
   "cell_type": "code",
   "execution_count": 15,
   "id": "11f0447d-0c01-4d27-9c7c-272b5052f011",
   "metadata": {},
   "outputs": [
    {
     "name": "stdout",
     "output_type": "stream",
     "text": [
      "1\n",
      "4\n",
      "9\n",
      "16\n",
      "25\n"
     ]
    }
   ],
   "source": [
    "for i in range(1,6):\n",
    "    n=i**2\n",
    "    print(n)"
   ]
  },
  {
   "cell_type": "markdown",
   "id": "05eefa41-2365-457a-bbd7-169ea726f655",
   "metadata": {},
   "source": [
    "8. Create a program to find the length of a string without using the `len()` function."
   ]
  },
  {
   "cell_type": "code",
   "execution_count": 19,
   "id": "3b4bf5a1-aac4-4a93-aa99-b4bd1b593412",
   "metadata": {},
   "outputs": [
    {
     "name": "stdout",
     "output_type": "stream",
     "text": [
      "20\n"
     ]
    }
   ],
   "source": [
    "str=\"this is gonna be ok.\"\n",
    "count=0\n",
    "for i in str:\n",
    "    count+=1\n",
    "print(count)"
   ]
  },
  {
   "cell_type": "markdown",
   "id": "6f57f614-52fe-453b-9ee0-17a711205c71",
   "metadata": {},
   "source": [
    "9. Write a program that calculates the average of a list of numbers using a `for` loop."
   ]
  },
  {
   "cell_type": "code",
   "execution_count": 23,
   "id": "43c76c4f-e99e-44fd-a1f7-9a7d00548b8d",
   "metadata": {},
   "outputs": [
    {
     "name": "stdout",
     "output_type": "stream",
     "text": [
      "10.2\n"
     ]
    }
   ],
   "source": [
    "l1=[1,2,4,5,4,6,4,66,7,3]\n",
    "sum=0\n",
    "for i in range(len(l1)):\n",
    "    sum+=l1[i]\n",
    "avg=sum/len(l1)\n",
    "print(avg)\n",
    "    \n",
    "    "
   ]
  },
  {
   "cell_type": "markdown",
   "id": "0982721c-065b-4a97-8592-eaf9f0552b0b",
   "metadata": {},
   "source": [
    "10. Develop a program that prints the first `n` Fibonacci numbers using a `for` loop."
   ]
  },
  {
   "cell_type": "code",
   "execution_count": 32,
   "id": "ee4c9860-f79c-4caf-b638-1b20bd084f68",
   "metadata": {},
   "outputs": [
    {
     "name": "stdin",
     "output_type": "stream",
     "text": [
      " 10\n"
     ]
    },
    {
     "name": "stdout",
     "output_type": "stream",
     "text": [
      "0\n",
      "1\n",
      "2\n",
      "3\n",
      "5\n",
      "8\n",
      "13\n",
      "21\n",
      "34\n",
      "55\n"
     ]
    }
   ],
   "source": [
    "s1=0\n",
    "s2=1\n",
    "n=int(input())\n",
    "print(s1)\n",
    "for i in range(2,n+1):\n",
    "    \n",
    "    s3=s1+s2\n",
    "    s1=s2\n",
    "    s2=s3\n",
    "    print(s3)\n"
   ]
  },
  {
   "cell_type": "markdown",
   "id": "ac955570-5d6e-45b1-a1b8-ff7493c6e937",
   "metadata": {},
   "source": [
    "11. Write a program to check if a given list contains any duplicates using a `for` loop."
   ]
  },
  {
   "cell_type": "code",
   "execution_count": 5,
   "id": "ff2a6790-32af-4ea3-92a5-692b0a8fa4c5",
   "metadata": {},
   "outputs": [
    {
     "name": "stdout",
     "output_type": "stream",
     "text": [
      "The list contains duplicates.\n"
     ]
    }
   ],
   "source": [
    "my_list = [1, 2, 3, 4, 5, 2]\n",
    "\n",
    "has_duplicates = False\n",
    "\n",
    "for i in range(len(my_list)):\n",
    "    for j in range(i + 1, len(my_list)):\n",
    "        if my_list[i] == my_list[j]:\n",
    "            has_duplicates = True\n",
    "            break  \n",
    "    if has_duplicates:\n",
    "        break \n",
    "if has_duplicates:\n",
    "    print(\"The list contains duplicates.\")\n",
    "else:\n",
    "    print(\"The list does not contain duplicates.\")\n"
   ]
  },
  {
   "cell_type": "markdown",
   "id": "ccfe9587-7a1c-4374-98bd-fe27a50c5c82",
   "metadata": {},
   "source": [
    "12. Create a program that prints the prime numbers in a given range using a `for` loop."
   ]
  },
  {
   "cell_type": "code",
   "execution_count": 7,
   "id": "73b57753-10bd-464f-9031-6728545d4799",
   "metadata": {},
   "outputs": [
    {
     "name": "stdin",
     "output_type": "stream",
     "text": [
      "Enter the starting number:  1\n",
      "Enter the ending number:  14\n"
     ]
    },
    {
     "name": "stdout",
     "output_type": "stream",
     "text": [
      "Prime numbers in the range 1 to 14 are:\n",
      "2\n",
      "3\n",
      "5\n",
      "7\n",
      "11\n",
      "13\n"
     ]
    }
   ],
   "source": [
    "start = int(input(\"Enter the starting number: \"))\n",
    "end = int(input(\"Enter the ending number: \"))\n",
    "for num in range(start, end + 1):\n",
    "    if num <= 1:\n",
    "        continue\n",
    "    is_prime = True\n",
    "    for i in range(2, int(num**0.5) + 1):\n",
    "        if num % i == 0:\n",
    "            is_prime = False\n",
    "            break\n",
    "    if is_prime:\n",
    "        print(num)\n"
   ]
  },
  {
   "cell_type": "markdown",
   "id": "98bcc062-204d-4710-a6f4-70ccecbf8ddf",
   "metadata": {},
   "source": [
    "13. Develop a program that counts the number of vowels in a string using a `for` loop."
   ]
  },
  {
   "cell_type": "code",
   "execution_count": 10,
   "id": "e4c9c1b3-d75b-4662-9ce1-fd906dadc522",
   "metadata": {},
   "outputs": [
    {
     "name": "stdin",
     "output_type": "stream",
     "text": [
      "Enter a string:  sxdcfvgbhn\n"
     ]
    },
    {
     "name": "stdout",
     "output_type": "stream",
     "text": [
      "Number of vowels in the string: 0\n"
     ]
    }
   ],
   "source": [
    "input_string = input(\"Enter a string: \")\n",
    "vowel_count = 0\n",
    "vowels = set(\"AEIOUaeiou\")\n",
    "for char in input_string:\n",
    "    if char in vowels:\n",
    "        vowel_count += 1\n",
    "print(\"Number of vowels in the string:\", vowel_count)\n"
   ]
  },
  {
   "cell_type": "markdown",
   "id": "f5edd303-23c1-40c8-ad4d-5c83982c815f",
   "metadata": {},
   "source": [
    "14. Write a program to find the maximum element in a 2D list using a nested `for` loop. "
   ]
  },
  {
   "cell_type": "code",
   "execution_count": 11,
   "id": "cf02de9a-6416-4c69-b9a0-1e8cedfe8c26",
   "metadata": {},
   "outputs": [
    {
     "name": "stdout",
     "output_type": "stream",
     "text": [
      "The maximum element in the 2D list is: 9\n"
     ]
    }
   ],
   "source": [
    "matrix = [\n",
    "    [1, 2, 3],\n",
    "    [4, 5, 6],\n",
    "    [7, 8, 9]\n",
    "]\n",
    "max_element = matrix[0][0]\n",
    "for row in matrix:\n",
    "    for element in row:\n",
    "        if element > max_element:\n",
    "            max_element = element\n",
    "print(\"The maximum element in the 2D list is:\", max_element)\n"
   ]
  },
  {
   "cell_type": "markdown",
   "id": "fcb816ab-39c5-4ccd-a16c-3ab0d76067a0",
   "metadata": {},
   "source": [
    "15. Create a program that removes all occurrences of a specific element from a list using a `for` loop."
   ]
  },
  {
   "cell_type": "code",
   "execution_count": 12,
   "id": "681c23ed-e09d-4c18-9392-cb1b1d98c31b",
   "metadata": {},
   "outputs": [
    {
     "name": "stdout",
     "output_type": "stream",
     "text": [
      "List after removing 2 : [1, 3, 4, 5]\n"
     ]
    }
   ],
   "source": [
    "my_list = [1, 2, 3, 2, 4, 5, 2]\n",
    "element_to_remove = 2\n",
    "for i in my_list[:]:\n",
    "    if i == element_to_remove:\n",
    "        my_list.remove(i)\n",
    "print(\"List after removing\", element_to_remove, \":\", my_list)\n"
   ]
  },
  {
   "cell_type": "markdown",
   "id": "02fe7870-9cfa-4cad-a302-e3f4ddb155a9",
   "metadata": {},
   "source": [
    "16. Develop a program that generates a multiplication table for numbers from 1 to 5 using a nested `for` loop."
   ]
  },
  {
   "cell_type": "code",
   "execution_count": 2,
   "id": "06e5509a-6903-434a-b03c-e62c9c9d2602",
   "metadata": {},
   "outputs": [
    {
     "name": "stdout",
     "output_type": "stream",
     "text": [
      "1 x 1 = 1\n",
      "1 x 2 = 2\n",
      "1 x 3 = 3\n",
      "1 x 4 = 4\n",
      "1 x 5 = 5\n",
      "1 x 6 = 6\n",
      "1 x 7 = 7\n",
      "1 x 8 = 8\n",
      "1 x 9 = 9\n",
      "1 x 10 = 10\n",
      "2 x 1 = 2\n",
      "2 x 2 = 4\n",
      "2 x 3 = 6\n",
      "2 x 4 = 8\n",
      "2 x 5 = 10\n",
      "2 x 6 = 12\n",
      "2 x 7 = 14\n",
      "2 x 8 = 16\n",
      "2 x 9 = 18\n",
      "2 x 10 = 20\n",
      "3 x 1 = 3\n",
      "3 x 2 = 6\n",
      "3 x 3 = 9\n",
      "3 x 4 = 12\n",
      "3 x 5 = 15\n",
      "3 x 6 = 18\n",
      "3 x 7 = 21\n",
      "3 x 8 = 24\n",
      "3 x 9 = 27\n",
      "3 x 10 = 30\n",
      "4 x 1 = 4\n",
      "4 x 2 = 8\n",
      "4 x 3 = 12\n",
      "4 x 4 = 16\n",
      "4 x 5 = 20\n",
      "4 x 6 = 24\n",
      "4 x 7 = 28\n",
      "4 x 8 = 32\n",
      "4 x 9 = 36\n",
      "4 x 10 = 40\n",
      "5 x 1 = 5\n",
      "5 x 2 = 10\n",
      "5 x 3 = 15\n",
      "5 x 4 = 20\n",
      "5 x 5 = 25\n",
      "5 x 6 = 30\n",
      "5 x 7 = 35\n",
      "5 x 8 = 40\n",
      "5 x 9 = 45\n",
      "5 x 10 = 50\n"
     ]
    }
   ],
   "source": [
    "nums=1\n",
    "nume=5\n",
    "\n",
    "for i in range(nums,nume+1):\n",
    "    for j in range(1,11):\n",
    "        re=i*j\n",
    "        print(f\"{i} x {j} = {re}\")\n",
    "        "
   ]
  },
  {
   "cell_type": "markdown",
   "id": "f015794c-c91e-4718-9016-2df981966436",
   "metadata": {},
   "source": [
    "17. Write a program that converts a list of Fahrenheit temperatures to Celsius using a `for` loop."
   ]
  },
  {
   "cell_type": "code",
   "execution_count": 3,
   "id": "3ae7ddf4-3355-40e1-ad27-016b743429a7",
   "metadata": {},
   "outputs": [
    {
     "name": "stdout",
     "output_type": "stream",
     "text": [
      "Fahrenheit Temperatures: [32, 68, 86, 104, 122]\n",
      "Celsius Temperatures: [0.0, 20.0, 30.0, 40.0, 50.0]\n"
     ]
    }
   ],
   "source": [
    "fahrenheit_temperatures = [32, 68, 86, 104, 122]\n",
    "celsius_temperatures = []\n",
    "for fahrenheit in fahrenheit_temperatures:\n",
    "    celsius = (fahrenheit - 32) * 5/9\n",
    "    celsius_temperatures.append(celsius)\n",
    "print(\"Fahrenheit Temperatures:\", fahrenheit_temperatures)\n",
    "print(\"Celsius Temperatures:\", celsius_temperatures)\n"
   ]
  },
  {
   "cell_type": "markdown",
   "id": "599a9a62-3176-423d-9fa6-2024f89921c5",
   "metadata": {},
   "source": [
    "18. Create a program to print the common elements from two lists using a `for` loop."
   ]
  },
  {
   "cell_type": "code",
   "execution_count": 7,
   "id": "bd92a1a0-887c-44de-85cd-a4169e465105",
   "metadata": {},
   "outputs": [
    {
     "name": "stdout",
     "output_type": "stream",
     "text": [
      "[3, 4, 5, 6, 7, 8]\n"
     ]
    }
   ],
   "source": [
    "l1=[12,3,4,5,6,7,8,6,3,5,7,8,6,4,3,3]\n",
    "l2=[1,2,3,4,6,7,8,9,5,3,2,45,5,2]\n",
    "l3=[]\n",
    "for i in l1:\n",
    "    for j in l2:\n",
    "        if i == j:\n",
    "            if i not in l3:\n",
    "                l3.append(i)\n",
    "print(l3)\n",
    "        "
   ]
  },
  {
   "cell_type": "markdown",
   "id": "0b3869e6-4c2e-4bc9-a281-f6d0d85d9be7",
   "metadata": {},
   "source": [
    "19. Develop a program that prints the pattern of right-angled triangles using a `for` loop. Use ‘*’ to draw the\n",
    "pattern"
   ]
  },
  {
   "cell_type": "code",
   "execution_count": 15,
   "id": "02fac9fd-f97d-4b21-babe-a749ad6f2c44",
   "metadata": {},
   "outputs": [
    {
     "name": "stdin",
     "output_type": "stream",
     "text": [
      " 5\n"
     ]
    },
    {
     "name": "stdout",
     "output_type": "stream",
     "text": [
      "* \n",
      "* * \n",
      "* * * \n",
      "* * * * \n",
      "* * * * * \n"
     ]
    }
   ],
   "source": [
    "iino=int(input())\n",
    "for i in range(1,iino+1):\n",
    "    for j in range(i):\n",
    "        print(\"*\", end=\" \")\n",
    "    print()"
   ]
  },
  {
   "cell_type": "markdown",
   "id": "b7d14d0f-dedd-419b-85bc-d1d27cb686d6",
   "metadata": {},
   "source": [
    "20. Write a program to find the greatest common divisor (GCD) of two numbers using a `for` loop."
   ]
  },
  {
   "cell_type": "code",
   "execution_count": 16,
   "id": "4e7fac68-851f-4bec-962c-c576d95c2b38",
   "metadata": {},
   "outputs": [
    {
     "name": "stdin",
     "output_type": "stream",
     "text": [
      "Enter the first number:  4\n",
      "Enter the second number:  14\n"
     ]
    },
    {
     "name": "stdout",
     "output_type": "stream",
     "text": [
      "The GCD of 4 and 14 is 2\n"
     ]
    }
   ],
   "source": [
    "num1 = int(input(\"Enter the first number: \"))\n",
    "num2 = int(input(\"Enter the second number: \"))\n",
    "min_num = min(num1, num2)\n",
    "gcd = 1\n",
    "for i in range(1, min_num + 1):\n",
    "    if num1 % i == 0 and num2 % i == 0:\n",
    "        gcd = i\n",
    "print(f\"The GCD of {num1} and {num2} is {gcd}\")\n"
   ]
  },
  {
   "cell_type": "markdown",
   "id": "6021d4c0-8a41-42e2-b214-1130cd6eb420",
   "metadata": {},
   "source": [
    "21. Create a program that calculates the sum of the digits of numbers in a list using a list comprehension."
   ]
  },
  {
   "cell_type": "code",
   "execution_count": 1,
   "id": "43dcc1a1-e172-4bd6-92cb-84ca705585a1",
   "metadata": {},
   "outputs": [
    {
     "name": "stdout",
     "output_type": "stream",
     "text": [
      "Number: 123, Sum of digits: 6\n",
      "Number: 45, Sum of digits: 9\n",
      "Number: 6789, Sum of digits: 30\n",
      "Number: 555, Sum of digits: 15\n"
     ]
    }
   ],
   "source": [
    "numbers = [123, 45, 6789, 555]\n",
    "digit_sums = [sum(int(digit) for digit in str(num)) for num in numbers]\n",
    "for i in range(len(numbers)):\n",
    "    print(f\"Number: {numbers[i]}, Sum of digits: {digit_sums[i]}\")\n"
   ]
  },
  {
   "cell_type": "markdown",
   "id": "39f2a5ce-2d5e-49fd-8cc1-014112bd3a38",
   "metadata": {},
   "source": [
    "22. Write a program to find the prime factors of a given number using a `for` loop and list comprehension."
   ]
  },
  {
   "cell_type": "code",
   "execution_count": 4,
   "id": "e191067d-cd89-447a-bc49-34bcae960fc3",
   "metadata": {},
   "outputs": [
    {
     "name": "stdin",
     "output_type": "stream",
     "text": [
      "Enter a number:  14\n"
     ]
    },
    {
     "name": "stdout",
     "output_type": "stream",
     "text": [
      "Prime factors of the given number: [2, 7]\n"
     ]
    }
   ],
   "source": [
    "num = int(input(\"Enter a number: \"))\n",
    "prime_factors = []\n",
    "for divisor in range(2, num + 1):\n",
    "    while num % divisor == 0:\n",
    "        prime_factors.append(divisor)\n",
    "        num //= divisor\n",
    "print(f\"Prime factors of the given number: {prime_factors}\")\n"
   ]
  },
  {
   "cell_type": "markdown",
   "id": "6ee3e833-67e3-4049-a866-e6a5c7fe7911",
   "metadata": {},
   "source": [
    "23. Develop a program that extracts unique elements from a list and stores them in a new list using a list\n",
    "comprehension."
   ]
  },
  {
   "cell_type": "code",
   "execution_count": 3,
   "id": "68d31c08-7650-4936-807d-c8967c08394a",
   "metadata": {},
   "outputs": [
    {
     "name": "stdout",
     "output_type": "stream",
     "text": [
      "Original List: [1, 2, 2, 3, 4, 4, 5, 6, 6, 7]\n",
      "Unique List: [1, 2, 3, 4, 5, 6, 7]\n"
     ]
    }
   ],
   "source": [
    "original_list = [1, 2, 2, 3, 4, 4, 5, 6, 6, 7]\n",
    "unique_list = [x for i, x in enumerate(original_list) if x not in original_list[:i]]\n",
    "print(\"Original List:\", original_list)\n",
    "print(\"Unique List:\", unique_list)\n"
   ]
  },
  {
   "cell_type": "markdown",
   "id": "cd116214-284f-4939-b93f-77842a4cee78",
   "metadata": {},
   "source": [
    "24. Create a program that generates a list of all palindromic numbers up to a specified limit using a list\n",
    "comprehension."
   ]
  },
  {
   "cell_type": "code",
   "execution_count": 2,
   "id": "8c49b8b9-18c8-478a-893d-b1f09bfae19b",
   "metadata": {},
   "outputs": [
    {
     "name": "stdin",
     "output_type": "stream",
     "text": [
      "Enter the upper limit:  5\n"
     ]
    },
    {
     "name": "stdout",
     "output_type": "stream",
     "text": [
      "Palindromic numbers up to the specified limit:\n",
      "[1, 2, 3, 4, 5]\n"
     ]
    }
   ],
   "source": [
    "limit = int(input(\"Enter the upper limit: \"))\n",
    "palindromic_numbers = [num for num in range(1, limit + 1) if str(num) == str(num)[::-1]]\n",
    "print(\"Palindromic numbers up to the specified limit:\")\n",
    "\n",
    "print(palindromic_numbers)\n"
   ]
  },
  {
   "cell_type": "markdown",
   "id": "5d8e1e0a-3a37-411f-b536-736b13bc275b",
   "metadata": {},
   "source": [
    "25. Write a program to flatten a nested list using list comprehension."
   ]
  },
  {
   "cell_type": "code",
   "execution_count": 1,
   "id": "1cc1b325-06db-4eb3-869d-c1b607680bad",
   "metadata": {},
   "outputs": [
    {
     "name": "stdout",
     "output_type": "stream",
     "text": [
      "Original Nested List: [[1, 2, 3], [4, 5], [6, 7, 8, 9]]\n",
      "Flattened List: [1, 2, 3, 4, 5, 6, 7, 8, 9]\n"
     ]
    }
   ],
   "source": [
    "nested_list = [[1, 2, 3], [4, 5], [6, 7, 8, 9]]\n",
    "flattened_list = [item for sublist in nested_list for item in sublist]\n",
    "print(\"Original Nested List:\", nested_list)\n",
    "print(\"Flattened List:\", flattened_list)\n"
   ]
  },
  {
   "cell_type": "markdown",
   "id": "0691422d-f865-4eb5-a0f1-6390546e1e5e",
   "metadata": {},
   "source": [
    "26. Develop a program that computes the sum of even and odd numbers in a list separately using list\n",
    "comprehension."
   ]
  },
  {
   "cell_type": "code",
   "execution_count": 5,
   "id": "103eae71-980f-4ca9-887c-5e1433ce74da",
   "metadata": {},
   "outputs": [
    {
     "name": "stdout",
     "output_type": "stream",
     "text": [
      "Even numbers: [2, 4, 6, 8, 10]\n",
      "Sum of even numbers: 30\n",
      "Odd numbers: [1, 3, 5, 7, 9]\n",
      "Sum of odd numbers: 25\n"
     ]
    }
   ],
   "source": [
    "numbers = [1, 2, 3, 4, 5, 6, 7, 8, 9, 10]\n",
    "even_numbers = [num for num in numbers if num % 2 == 0]\n",
    "odd_numbers = [num for num in numbers if num % 2 != 0]\n",
    "sum_even = sum(even_numbers)\n",
    "sum_odd = sum(odd_numbers)\n",
    "print(\"Even numbers:\", even_numbers)\n",
    "print(\"Sum of even numbers:\", sum_even)\n",
    "print(\"Odd numbers:\", odd_numbers)\n",
    "print(\"Sum of odd numbers:\", sum_odd)\n"
   ]
  },
  {
   "cell_type": "markdown",
   "id": "1185c39e-3007-40e7-8898-72285a3dc683",
   "metadata": {},
   "source": [
    "27. Create a program that generates a list of squares of odd numbers between 1 and 10 using list\n",
    "comprehension."
   ]
  },
  {
   "cell_type": "code",
   "execution_count": 7,
   "id": "f0a0a486-24fa-47f0-b303-aaf32fdcf606",
   "metadata": {},
   "outputs": [
    {
     "name": "stdout",
     "output_type": "stream",
     "text": [
      "[1, 9, 25, 49, 81]\n"
     ]
    }
   ],
   "source": [
    "numbers = [1, 2, 3, 4, 5, 6, 7, 8, 9, 10]\n",
    "oddlist=[i*i for i in numbers if i%2!=0 ]\n",
    "print(oddlist)"
   ]
  },
  {
   "cell_type": "markdown",
   "id": "366faa1e-24e7-4357-84c2-fc440e7d38d1",
   "metadata": {},
   "source": [
    "28. Write a program that combines two lists into a dictionary using list comprehension."
   ]
  },
  {
   "cell_type": "code",
   "execution_count": 8,
   "id": "2d32ebb7-8d57-4a6c-bbb3-3d198c0a4839",
   "metadata": {},
   "outputs": [
    {
     "name": "stdout",
     "output_type": "stream",
     "text": [
      "{'name': 'Alice', 'age': 30, 'city': 'New York'}\n"
     ]
    }
   ],
   "source": [
    "keys = [\"name\", \"age\", \"city\"]\n",
    "values = [\"Alice\", 30, \"New York\"]\n",
    "combined_dict = {keys[i]: values[i] for i in range(len(keys))}\n",
    "print(combined_dict)\n"
   ]
  },
  {
   "cell_type": "markdown",
   "id": "996a378f-d510-4c66-a340-c5fe218422b9",
   "metadata": {},
   "source": [
    "29. Develop a program that extracts the vowels from a string and stores them in a list using list comprehension."
   ]
  },
  {
   "cell_type": "code",
   "execution_count": 13,
   "id": "4dac097a-2518-4ea2-a88d-e3c409b32672",
   "metadata": {},
   "outputs": [
    {
     "name": "stdout",
     "output_type": "stream",
     "text": [
      "Vowels in the string: ['E', 'O', 'O']\n"
     ]
    }
   ],
   "source": [
    "input_string = \"Hello, World!\"\n",
    "vowels = [char.upper() for char in input_string if char.upper() in \"AEIOU\"]\n",
    "print(\"Vowels in the string:\", vowels)\n"
   ]
  },
  {
   "cell_type": "markdown",
   "id": "425bb79a-3db3-4fe1-8e49-b0e464707f6d",
   "metadata": {},
   "source": [
    "30. Create a program that removes all non-numeric characters from a list of strings using list comprehension."
   ]
  },
  {
   "cell_type": "code",
   "execution_count": 18,
   "id": "56854810-a1a0-4ff5-b173-dca008c647c1",
   "metadata": {},
   "outputs": [
    {
     "name": "stdout",
     "output_type": "stream",
     "text": [
      "List with non-numeric characters removed: ['123', '456', '789', '10']\n"
     ]
    }
   ],
   "source": [
    "string_list = [\"abc123\", \"456def\", \"789xyz\", \"10\"]\n",
    "numeric_only_list = [''.join(char for char in string if char.isdigit()) for string in string_list]\n",
    "print(\"List with non-numeric characters removed:\", numeric_only_list)\n"
   ]
  },
  {
   "cell_type": "markdown",
   "id": "0093f214-361f-4d61-8823-cff90f139564",
   "metadata": {},
   "source": [
    "31. Write a program to generate a list of prime numbers using the Sieve of Eratosthenes algorithm and list\n",
    "comprehension."
   ]
  },
  {
   "cell_type": "code",
   "execution_count": 1,
   "id": "5bac6a3c-0b00-4d72-a2ef-f31cf8233e33",
   "metadata": {},
   "outputs": [
    {
     "name": "stdin",
     "output_type": "stream",
     "text": [
      "Enter an upper limit for prime numbers:  147\n"
     ]
    },
    {
     "name": "stdout",
     "output_type": "stream",
     "text": [
      "Prime numbers up to 147 are: [2, 3, 5, 7, 11, 13, 17, 19, 23, 29, 31, 37, 41, 43, 47, 53, 59, 61, 67, 71, 73, 79, 83, 89, 97, 101, 103, 107, 109, 113, 127, 131, 137, 139]\n"
     ]
    }
   ],
   "source": [
    "n = int(input(\"Enter an upper limit for prime numbers: \"))\n",
    "is_prime = [True] * (n + 1)\n",
    "is_prime[0] = is_prime[1] = False\n",
    "for i in range(2, int(n**0.5) + 1):\n",
    "    if is_prime[i]:\n",
    "        for j in range(i**2, n + 1, i):\n",
    "            is_prime[j] = False\n",
    "prime_numbers = [i for i in range(2, n + 1) if is_prime[i]]\n",
    "print(\"Prime numbers up to\", n, \"are:\", prime_numbers)\n"
   ]
  },
  {
   "cell_type": "markdown",
   "id": "4219be1c-e4c1-40f8-8f41-e61a891c3ebe",
   "metadata": {},
   "source": [
    "32. Create a program that generates a list of all Pythagorean triplets up to a specified limit using list\n",
    "comprehension."
   ]
  },
  {
   "cell_type": "code",
   "execution_count": 3,
   "id": "e879237c-65c4-48f8-a3f8-2137ef3e59b2",
   "metadata": {},
   "outputs": [
    {
     "name": "stdin",
     "output_type": "stream",
     "text": [
      "Enter an upper limit for Pythagorean triplets:  12\n"
     ]
    },
    {
     "name": "stdout",
     "output_type": "stream",
     "text": [
      "Pythagorean triplets up to 12 are:\n",
      "(3, 4, 5)\n",
      "(6, 8, 10)\n"
     ]
    }
   ],
   "source": [
    "limit = int(input(\"Enter an upper limit for Pythagorean triplets: \"))\n",
    "pythagorean_triplets = [(a, b, c) for a in range(1, limit + 1)\n",
    "                         for b in range(a, limit + 1)\n",
    "                         for c in range(b, limit + 1)\n",
    "                         if a**2 + b**2 == c**2]\n",
    "print(\"Pythagorean triplets up to\", limit, \"are:\")\n",
    "for triplet in pythagorean_triplets:\n",
    "    print(triplet)\n"
   ]
  },
  {
   "cell_type": "markdown",
   "id": "884b1e59-16db-4875-ac43-9cab2518d373",
   "metadata": {},
   "source": [
    "33. Develop a program that generates a list of all possible combinations of two lists using list comprehension."
   ]
  },
  {
   "cell_type": "code",
   "execution_count": 4,
   "id": "e3139979-ea03-4911-badf-a9e1c840ddc7",
   "metadata": {},
   "outputs": [
    {
     "name": "stdout",
     "output_type": "stream",
     "text": [
      "All possible combinations of elements from list1 and list2 are:\n",
      "(1, 'a')\n",
      "(1, 'b')\n",
      "(1, 'c')\n",
      "(2, 'a')\n",
      "(2, 'b')\n",
      "(2, 'c')\n",
      "(3, 'a')\n",
      "(3, 'b')\n",
      "(3, 'c')\n"
     ]
    }
   ],
   "source": [
    "list1 = [1, 2, 3]\n",
    "list2 = ['a', 'b', 'c']\n",
    "combinations = [(x, y) for x in list1 for y in list2]\n",
    "print(\"All possible combinations of elements from list1 and list2 are:\")\n",
    "for combination in combinations:\n",
    "    print(combination)\n"
   ]
  },
  {
   "cell_type": "markdown",
   "id": "566be91f-6cd9-4883-b81f-5e8d5f81beb1",
   "metadata": {},
   "source": [
    "34. Write a program that calculates the mean, median, and mode of a list of numbers using list\n",
    "comprehension."
   ]
  },
  {
   "cell_type": "code",
   "execution_count": 5,
   "id": "7cdfad47-b3b9-40f7-ab12-45b6267f045c",
   "metadata": {},
   "outputs": [
    {
     "name": "stdout",
     "output_type": "stream",
     "text": [
      "List of numbers: [1, 2, 2, 3, 4, 4, 4, 5, 6]\n",
      "Mean: 3.4444444444444446\n",
      "Median: 4\n",
      "Mode: 4\n"
     ]
    }
   ],
   "source": [
    "from statistics import mean, median, mode\n",
    "numbers = [1, 2, 2, 3, 4, 4, 4, 5, 6]\n",
    "mean_value = sum(numbers) / len(numbers)\n",
    "sorted_numbers = sorted(numbers)\n",
    "middle = len(sorted_numbers) // 2\n",
    "if len(sorted_numbers) % 2 == 0:\n",
    "    median_value = (sorted_numbers[middle - 1] + sorted_numbers[middle]) / 2\n",
    "else:\n",
    "    median_value = sorted_numbers[middle]\n",
    "try:\n",
    "    mode_value = mode(numbers)\n",
    "except StatisticsError:\n",
    "    mode_value = \"No unique mode found\"\n",
    "print(\"List of numbers:\", numbers)\n",
    "print(\"Mean:\", mean_value)\n",
    "print(\"Median:\", median_value)\n",
    "print(\"Mode:\", mode_value)\n"
   ]
  },
  {
   "cell_type": "markdown",
   "id": "5ccfe032-9baf-47c2-a711-182e56461abf",
   "metadata": {},
   "source": [
    "35. Create a program that generates Pascal's triangle up to a specified number of rows using list\n",
    "comprehension."
   ]
  },
  {
   "cell_type": "code",
   "execution_count": 6,
   "id": "fd51653f-cfb0-45f1-94ac-91d1bb043f4f",
   "metadata": {},
   "outputs": [
    {
     "name": "stdin",
     "output_type": "stream",
     "text": [
      "Enter the number of rows for Pascal's triangle:  2\n"
     ]
    },
    {
     "name": "stdout",
     "output_type": "stream",
     "text": [
      "Pascal's triangle with 2 rows:\n",
      "  1   \n",
      " 1 1  \n"
     ]
    }
   ],
   "source": [
    "num_rows = int(input(\"Enter the number of rows for Pascal's triangle: \"))\n",
    "pascals_triangle = [[1] if i == 0 else [1, 1] if i == 1 else\n",
    "                    [1] + [pascals_triangle[i - 1][j] + pascals_triangle[i - 1][j + 1]\n",
    "                    for j in range(i - 1)] + [1]\n",
    "                    for i in range(num_rows)]\n",
    "print(\"Pascal's triangle with\", num_rows, \"rows:\")\n",
    "for row in pascals_triangle:\n",
    "    print(' '.join(map(str, row)).center(num_rows * 3))\n"
   ]
  },
  {
   "cell_type": "markdown",
   "id": "27724d7a-66ea-40f9-b8e1-11c6d7d927e3",
   "metadata": {},
   "source": [
    "36. Develop a program that calculates the sum of the digits of a factorial of numbers from 1 to 5 using list\n",
    "comprehension."
   ]
  },
  {
   "cell_type": "code",
   "execution_count": 7,
   "id": "0d7b6c7f-b54e-45d7-9fd3-2a122318ee2d",
   "metadata": {},
   "outputs": [
    {
     "name": "stdout",
     "output_type": "stream",
     "text": [
      "Factorial of 1 is 1, and the sum of its digits is 1\n",
      "Factorial of 2 is 2, and the sum of its digits is 2\n",
      "Factorial of 3 is 6, and the sum of its digits is 6\n",
      "Factorial of 4 is 24, and the sum of its digits is 6\n",
      "Factorial of 5 is 120, and the sum of its digits is 3\n"
     ]
    }
   ],
   "source": [
    "def factorial(n):\n",
    "    if n == 0:\n",
    "        return 1\n",
    "    else:\n",
    "        return n * factorial(n - 1)\n",
    "def sum_of_digits(num):\n",
    "    return sum(int(digit) for digit in str(num))\n",
    "factorials_and_sums = [(n, factorial(n), sum_of_digits(factorial(n))) for n in range(1, 6)]\n",
    "for n, fact, digit_sum in factorials_and_sums:\n",
    "    print(f\"Factorial of {n} is {fact}, and the sum of its digits is {digit_sum}\")\n"
   ]
  },
  {
   "cell_type": "markdown",
   "id": "4017bf85-e41d-4be9-a454-55c712f4476f",
   "metadata": {},
   "source": [
    "37. Write a program that finds the longest word in a sentence using list comprehension."
   ]
  },
  {
   "cell_type": "code",
   "execution_count": 9,
   "id": "218ac0a3-5490-40b3-990b-aac3178f15db",
   "metadata": {},
   "outputs": [
    {
     "name": "stdin",
     "output_type": "stream",
     "text": [
      "Enter a sentence:  ejdnedne meixe iej iejdjejd dneded d dekd\n"
     ]
    },
    {
     "name": "stdout",
     "output_type": "stream",
     "text": [
      "The longest word in the sentence is: ejdnedne\n"
     ]
    }
   ],
   "source": [
    "sentence = input(\"Enter a sentence: \")\n",
    "words = sentence.split()\n",
    "longest_word = max(words, key=len)\n",
    "print(\"The longest word in the sentence is:\", longest_word)\n"
   ]
  },
  {
   "cell_type": "markdown",
   "id": "047b773c-1baf-433b-91c2-5808b82e61b7",
   "metadata": {},
   "source": [
    "38. Create a program that filters a list of strings to include only those with more than three vowels using list\n",
    "comprehension."
   ]
  },
  {
   "cell_type": "code",
   "execution_count": 11,
   "id": "19a00c7f-d5b3-40fd-941e-70d9bac0b220",
   "metadata": {},
   "outputs": [
    {
     "name": "stdout",
     "output_type": "stream",
     "text": [
      "Strings with more than three vowels are:\n",
      "interesting\n"
     ]
    }
   ],
   "source": [
    "strings = [\"hello\", \"world\", \"programming\", \"is\", \"fun\", \"and\", \"interesting\"]\n",
    "def count_vowels(string):\n",
    "    return sum(1 for char in string if char in 'aeiouAEIOU')\n",
    "filtered_strings = [string for string in strings if count_vowels(string) > 3]\n",
    "print(\"Strings with more than three vowels are:\")\n",
    "for string in filtered_strings:\n",
    "    print(string)\n"
   ]
  },
  {
   "cell_type": "code",
   "execution_count": null,
   "id": "c0086682-aefb-4e69-8dc2-2772e6c20939",
   "metadata": {},
   "outputs": [],
   "source": []
  }
 ],
 "metadata": {
  "kernelspec": {
   "display_name": "Python 3 (ipykernel)",
   "language": "python",
   "name": "python3"
  },
  "language_info": {
   "codemirror_mode": {
    "name": "ipython",
    "version": 3
   },
   "file_extension": ".py",
   "mimetype": "text/x-python",
   "name": "python",
   "nbconvert_exporter": "python",
   "pygments_lexer": "ipython3",
   "version": "3.10.8"
  }
 },
 "nbformat": 4,
 "nbformat_minor": 5
}
